{
 "cells": [
  {
   "cell_type": "markdown",
   "metadata": {
    "id": "fgnCQNSVSo-6"
   },
   "source": [
    "## Check sequence of audio and corresponding transcript"
   ]
  },
  {
   "cell_type": "code",
   "execution_count": 7,
   "metadata": {
    "colab": {
     "base_uri": "https://localhost:8080/"
    },
    "executionInfo": {
     "elapsed": 4519,
     "status": "ok",
     "timestamp": 1668605229533,
     "user": {
      "displayName": "JAANVI NAMBIAR",
      "userId": "06897921339285649450"
     },
     "user_tz": -330
    },
    "id": "HqduaHM6jqHF",
    "outputId": "bee17691-d798-4335-bcb5-c82f1e8f1614"
   },
   "outputs": [
    {
     "name": "stdout",
     "output_type": "stream",
     "text": [
      "Drive already mounted at /content/drive; to attempt to forcibly remount, call drive.mount(\"/content/drive\", force_remount=True).\n"
     ]
    }
   ],
   "source": [
    "from google.colab import drive\n",
    "drive.mount('/content/drive')"
   ]
  },
  {
   "cell_type": "code",
   "execution_count": 2,
   "metadata": {
    "executionInfo": {
     "elapsed": 5558,
     "status": "ok",
     "timestamp": 1668604909822,
     "user": {
      "displayName": "JAANVI NAMBIAR",
      "userId": "06897921339285649450"
     },
     "user_tz": -330
    },
    "id": "Y_A0pJUXE1Em"
   },
   "outputs": [],
   "source": [
    "import tensorflow as tf\n",
    "import numpy as np\n",
    "import pandas as pd"
   ]
  },
  {
   "cell_type": "code",
   "execution_count": 8,
   "metadata": {
    "executionInfo": {
     "elapsed": 477,
     "status": "ok",
     "timestamp": 1668605239120,
     "user": {
      "displayName": "JAANVI NAMBIAR",
      "userId": "06897921339285649450"
     },
     "user_tz": -330
    },
    "id": "6YACGYH1Fl5I"
   },
   "outputs": [],
   "source": [
    "AUDIO_PATH = '/content/drive/MyDrive/SLT Hackathon/Data/sp011'\n",
    "TRANSCRIPT_PATH = '/content/drive/MyDrive/SLT Hackathon/Data/Transcript/sp011.txt'"
   ]
  },
  {
   "cell_type": "code",
   "execution_count": 9,
   "metadata": {
    "colab": {
     "base_uri": "https://localhost:8080/"
    },
    "executionInfo": {
     "elapsed": 9337,
     "status": "ok",
     "timestamp": 1668605248893,
     "user": {
      "displayName": "JAANVI NAMBIAR",
      "userId": "06897921339285649450"
     },
     "user_tz": -330
    },
    "id": "CdyyS9VDE06N",
    "outputId": "b0520772-d218-45b5-a25f-7c1be83cfa2e"
   },
   "outputs": [
    {
     "name": "stdout",
     "output_type": "stream",
     "text": [
      "Sequence of audio and corresponding transcript is correct.\n"
     ]
    }
   ],
   "source": [
    "# Numpy array of all audio files\n",
    "audio_files = np.array(tf.io.gfile.glob(AUDIO_PATH + '/*.wav'))\n",
    "\n",
    "# Sort audio_files\n",
    "audio_files.sort()\n",
    "\n",
    "\n",
    "# Only filenames\n",
    "audio_filenames = []\n",
    "for audio_file in audio_files:\n",
    "    audio_filenames.append(audio_file.split('/')[-1].split('.')[0])\n",
    "audio_filenames = np.array(audio_filenames)\n",
    "\n",
    "\n",
    "\n",
    "transcript_df = pd.read_table(TRANSCRIPT_PATH, header=None)\n",
    "\n",
    "transcript_filenames = transcript_df[0].to_numpy()\n",
    "\n",
    "transcript_texts = transcript_df[1].to_numpy()\n",
    "\n",
    "\n",
    "\n",
    "is_sequence_correct = True\n",
    "\n",
    "for i in range(0, audio_filenames.size):\n",
    "    if audio_filenames[i] != transcript_filenames[i]:\n",
    "        is_sequence_correct = False\n",
    "        print('Incorrect Sequence at index', i)\n",
    "        break\n",
    "\n",
    "if is_sequence_correct:\n",
    "    print('Sequence of audio and corresponding transcript is correct.')"
   ]
  },
  {
   "cell_type": "markdown",
   "metadata": {
    "id": "IfgnrWneS1_s"
   },
   "source": [
    "## Stereo to mono"
   ]
  },
  {
   "cell_type": "code",
   "execution_count": 10,
   "metadata": {
    "colab": {
     "base_uri": "https://localhost:8080/"
    },
    "executionInfo": {
     "elapsed": 4702,
     "status": "ok",
     "timestamp": 1668605259494,
     "user": {
      "displayName": "JAANVI NAMBIAR",
      "userId": "06897921339285649450"
     },
     "user_tz": -330
    },
    "id": "HZdemeOoRkWv",
    "outputId": "3b0b3cb8-7f9d-4506-8ab6-765a5fd85bc2"
   },
   "outputs": [
    {
     "name": "stdout",
     "output_type": "stream",
     "text": [
      "Looking in indexes: https://pypi.org/simple, https://us-python.pkg.dev/colab-wheels/public/simple/\n",
      "Collecting pydub\n",
      "  Downloading pydub-0.25.1-py2.py3-none-any.whl (32 kB)\n",
      "Installing collected packages: pydub\n",
      "Successfully installed pydub-0.25.1\n"
     ]
    }
   ],
   "source": [
    "!pip install pydub"
   ]
  },
  {
   "cell_type": "code",
   "execution_count": 11,
   "metadata": {
    "executionInfo": {
     "elapsed": 6,
     "status": "ok",
     "timestamp": 1668605262329,
     "user": {
      "displayName": "JAANVI NAMBIAR",
      "userId": "06897921339285649450"
     },
     "user_tz": -330
    },
    "id": "gRNoNolSHxf4"
   },
   "outputs": [],
   "source": [
    "from pydub import AudioSegment\n",
    "from glob import glob\n",
    "import numpy as np"
   ]
  },
  {
   "cell_type": "code",
   "execution_count": 12,
   "metadata": {
    "executionInfo": {
     "elapsed": 411,
     "status": "ok",
     "timestamp": 1668605274958,
     "user": {
      "displayName": "JAANVI NAMBIAR",
      "userId": "06897921339285649450"
     },
     "user_tz": -330
    },
    "id": "Qx89_A8tHYJ3"
   },
   "outputs": [],
   "source": [
    "import_path = '/content/drive/MyDrive/SLT Hackathon/Data/sp011/'\n",
    "export_path = '/content/drive/MyDrive/SLT Hackathon/Data/Mono/sp011/'"
   ]
  },
  {
   "cell_type": "code",
   "execution_count": 13,
   "metadata": {
    "colab": {
     "base_uri": "https://localhost:8080/"
    },
    "executionInfo": {
     "elapsed": 621,
     "status": "ok",
     "timestamp": 1668605277703,
     "user": {
      "displayName": "JAANVI NAMBIAR",
      "userId": "06897921339285649450"
     },
     "user_tz": -330
    },
    "id": "I8ApN057YXLr",
    "outputId": "c4400766-b179-4c92-8fc3-054c28b1375e"
   },
   "outputs": [
    {
     "name": "stdout",
     "output_type": "stream",
     "text": [
      "sp001  sp009  sp011  sp012  sp014\n"
     ]
    }
   ],
   "source": [
    "!mkdir '/content/drive/MyDrive/SLT Hackathon/Data/Mono/sp011'\n",
    "!ls '/content/drive/MyDrive/SLT Hackathon/Data/Mono'"
   ]
  },
  {
   "cell_type": "code",
   "execution_count": 17,
   "metadata": {
    "colab": {
     "base_uri": "https://localhost:8080/"
    },
    "executionInfo": {
     "elapsed": 528,
     "status": "ok",
     "timestamp": 1668605416144,
     "user": {
      "displayName": "JAANVI NAMBIAR",
      "userId": "06897921339285649450"
     },
     "user_tz": -330
    },
    "id": "XRLUnHFpLm_v",
    "outputId": "d2c88f5d-1388-4981-db71-506fbb5b0f93"
   },
   "outputs": [
    {
     "data": {
      "text/plain": [
       "0"
      ]
     },
     "execution_count": 17,
     "metadata": {},
     "output_type": "execute_result"
    }
   ],
   "source": [
    "audio_files = glob(import_path + '*.wav')\n",
    "audio_files.sort()\n",
    "len(audio_files)"
   ]
  },
  {
   "cell_type": "code",
   "execution_count": null,
   "metadata": {
    "id": "3IlBfXcl7NRY"
   },
   "outputs": [],
   "source": [
    "audio_files[14].split(' ')[-1][0] == '('"
   ]
  },
  {
   "cell_type": "code",
   "execution_count": null,
   "metadata": {
    "id": "4uArwfCrLrrO"
   },
   "outputs": [],
   "source": [
    "# audio = audio_files[0]\n",
    "# stereo_audio = AudioSegment.from_file(audio, format=\"wav\")\n",
    "# mono_audios = stereo_audio.split_to_mono()\n",
    "# mono_audios[0].export('/content/drive/MyDrive/Sanskrit ASR/Data/mono/sp007/' + audio.split('/')[-1], format='wav')"
   ]
  },
  {
   "cell_type": "code",
   "execution_count": 16,
   "metadata": {
    "executionInfo": {
     "elapsed": 5,
     "status": "ok",
     "timestamp": 1668605331345,
     "user": {
      "displayName": "JAANVI NAMBIAR",
      "userId": "06897921339285649450"
     },
     "user_tz": -330
    },
    "id": "0Z_DGgtHIPaq"
   },
   "outputs": [],
   "source": [
    "for audio in audio_files:\n",
    "    if audio.split(' ')[-1][0] == '(':\n",
    "      continue\n",
    "\n",
    "    export_file = export_path + audio.split('/')[-1]\n",
    "    stereo_audio = AudioSegment.from_file(audio, format=\"wav\")\n",
    "    mono_audios = stereo_audio.split_to_mono()\n",
    "    mono_audios[0].export(export_file, format=\"wav\")"
   ]
  },
  {
   "cell_type": "code",
   "execution_count": null,
   "metadata": {
    "colab": {
     "base_uri": "https://localhost:8080/"
    },
    "executionInfo": {
     "elapsed": 423,
     "status": "ok",
     "timestamp": 1661451036144,
     "user": {
      "displayName": "BIJAL BHARADVA",
      "userId": "17173192773067876358"
     },
     "user_tz": -330
    },
    "id": "OQiS8SUoT829",
    "outputId": "d0649e5b-7bef-4628-ec74-ab872e5d5327"
   },
   "outputs": [
    {
     "data": {
      "text/plain": [
       "923"
      ]
     },
     "execution_count": 20,
     "metadata": {},
     "output_type": "execute_result"
    }
   ],
   "source": [
    "audio_files = glob(export_path + '*.wav')\n",
    "len(audio_files)"
   ]
  }
 ],
 "metadata": {
  "colab": {
   "provenance": []
  },
  "kernelspec": {
   "display_name": "Python 3 (ipykernel)",
   "language": "python",
   "name": "python3"
  },
  "language_info": {
   "codemirror_mode": {
    "name": "ipython",
    "version": 3
   },
   "file_extension": ".py",
   "mimetype": "text/x-python",
   "name": "python",
   "nbconvert_exporter": "python",
   "pygments_lexer": "ipython3",
   "version": "3.12.2"
  }
 },
 "nbformat": 4,
 "nbformat_minor": 4
}
